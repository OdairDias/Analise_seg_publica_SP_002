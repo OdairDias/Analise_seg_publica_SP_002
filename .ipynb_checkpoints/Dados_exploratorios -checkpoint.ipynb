{
 "cells": [
  {
   "cell_type": "code",
   "execution_count": 1,
   "id": "7f37dd1e",
   "metadata": {},
   "outputs": [],
   "source": [
    "import pandas as pd"
   ]
  },
  {
   "cell_type": "markdown",
   "id": "c00f4458",
   "metadata": {},
   "source": [
    "## Inicío análise exploratória dados roubo celulares e veiculos"
   ]
  },
  {
   "cell_type": "code",
   "execution_count": 2,
   "id": "a4019617",
   "metadata": {},
   "outputs": [],
   "source": [
    "# importando dataset para análise exploratória dos dados roubos celulares\n",
    "dados_expl_r_celulares= pd.read_excel('dados_roubo_celulares_nov_2022_compl.xlsx')"
   ]
  },
  {
   "cell_type": "code",
   "execution_count": 3,
   "id": "96ff384e",
   "metadata": {},
   "outputs": [
    {
     "data": {
      "text/html": [
       "<div>\n",
       "<style scoped>\n",
       "    .dataframe tbody tr th:only-of-type {\n",
       "        vertical-align: middle;\n",
       "    }\n",
       "\n",
       "    .dataframe tbody tr th {\n",
       "        vertical-align: top;\n",
       "    }\n",
       "\n",
       "    .dataframe thead th {\n",
       "        text-align: right;\n",
       "    }\n",
       "</style>\n",
       "<table border=\"1\" class=\"dataframe\">\n",
       "  <thead>\n",
       "    <tr style=\"text-align: right;\">\n",
       "      <th></th>\n",
       "      <th>ANO_BO</th>\n",
       "      <th>NUM_BO</th>\n",
       "      <th>NUMERO_BOLETIM</th>\n",
       "      <th>BO_INICIADO</th>\n",
       "      <th>BO_EMITIDO</th>\n",
       "      <th>DATAOCORRENCIA</th>\n",
       "      <th>HORAOCORRENCIA</th>\n",
       "      <th>PERIDOOCORRENCIA</th>\n",
       "      <th>DATACOMUNICACAO</th>\n",
       "      <th>DATAELABORACAO</th>\n",
       "      <th>...</th>\n",
       "      <th>PLACA_VEICULO</th>\n",
       "      <th>UF_VEICULO</th>\n",
       "      <th>CIDADE_VEICULO</th>\n",
       "      <th>DESCR_COR_VEICULO</th>\n",
       "      <th>DESCR_MARCA_VEICULO</th>\n",
       "      <th>ANO_FABRICACAO</th>\n",
       "      <th>ANO_MODELO</th>\n",
       "      <th>DESCR_TIPO_VEICULO</th>\n",
       "      <th>QUANT_CELULAR</th>\n",
       "      <th>MARCA_CELULAR</th>\n",
       "    </tr>\n",
       "  </thead>\n",
       "  <tbody>\n",
       "    <tr>\n",
       "      <th>0</th>\n",
       "      <td>2022</td>\n",
       "      <td>6873</td>\n",
       "      <td>6873/2022</td>\n",
       "      <td>2022-11-01 00:04:36</td>\n",
       "      <td>2022-11-01 00:04:36</td>\n",
       "      <td>2022-10-31</td>\n",
       "      <td>20:40:00</td>\n",
       "      <td>A NOITE</td>\n",
       "      <td>2022-10-31</td>\n",
       "      <td>2022-11-01 00:04:36</td>\n",
       "      <td>...</td>\n",
       "      <td>EFS8G51</td>\n",
       "      <td>SP</td>\n",
       "      <td>ARARAQUARA</td>\n",
       "      <td>Preta</td>\n",
       "      <td>VW/GOL 1.0 GIV</td>\n",
       "      <td>2009.0</td>\n",
       "      <td>2009.0</td>\n",
       "      <td>AUTOMOVEL</td>\n",
       "      <td>1.0</td>\n",
       "      <td>Motorola</td>\n",
       "    </tr>\n",
       "    <tr>\n",
       "      <th>1</th>\n",
       "      <td>2022</td>\n",
       "      <td>5203</td>\n",
       "      <td>5203/2022</td>\n",
       "      <td>2022-11-01 00:08:16</td>\n",
       "      <td>2022-11-01 00:08:16</td>\n",
       "      <td>2022-10-31</td>\n",
       "      <td>20:40:00</td>\n",
       "      <td>A NOITE</td>\n",
       "      <td>2022-10-31</td>\n",
       "      <td>2022-11-01 00:08:16</td>\n",
       "      <td>...</td>\n",
       "      <td>NaN</td>\n",
       "      <td>NaN</td>\n",
       "      <td>NaN</td>\n",
       "      <td>NaN</td>\n",
       "      <td>NaN</td>\n",
       "      <td>0.0</td>\n",
       "      <td>0.0</td>\n",
       "      <td>NaN</td>\n",
       "      <td>1.0</td>\n",
       "      <td>Motorola</td>\n",
       "    </tr>\n",
       "    <tr>\n",
       "      <th>2</th>\n",
       "      <td>2022</td>\n",
       "      <td>5203</td>\n",
       "      <td>5203/2022</td>\n",
       "      <td>2022-11-01 00:08:16</td>\n",
       "      <td>2022-11-01 00:08:16</td>\n",
       "      <td>2022-10-31</td>\n",
       "      <td>20:40:00</td>\n",
       "      <td>A NOITE</td>\n",
       "      <td>2022-10-31</td>\n",
       "      <td>2022-11-01 00:08:16</td>\n",
       "      <td>...</td>\n",
       "      <td>NaN</td>\n",
       "      <td>NaN</td>\n",
       "      <td>NaN</td>\n",
       "      <td>NaN</td>\n",
       "      <td>NaN</td>\n",
       "      <td>0.0</td>\n",
       "      <td>0.0</td>\n",
       "      <td>NaN</td>\n",
       "      <td>1.0</td>\n",
       "      <td>Samsung</td>\n",
       "    </tr>\n",
       "    <tr>\n",
       "      <th>3</th>\n",
       "      <td>2022</td>\n",
       "      <td>9012</td>\n",
       "      <td>9012/2022</td>\n",
       "      <td>2022-11-01 00:09:19</td>\n",
       "      <td>2022-11-01 00:09:19</td>\n",
       "      <td>2022-10-31</td>\n",
       "      <td>22:32:00</td>\n",
       "      <td>A NOITE</td>\n",
       "      <td>2022-10-31</td>\n",
       "      <td>2022-11-01 00:09:19</td>\n",
       "      <td>...</td>\n",
       "      <td>NaN</td>\n",
       "      <td>NaN</td>\n",
       "      <td>NaN</td>\n",
       "      <td>NaN</td>\n",
       "      <td>NaN</td>\n",
       "      <td>0.0</td>\n",
       "      <td>0.0</td>\n",
       "      <td>NaN</td>\n",
       "      <td>1.0</td>\n",
       "      <td>Samsung</td>\n",
       "    </tr>\n",
       "    <tr>\n",
       "      <th>4</th>\n",
       "      <td>2022</td>\n",
       "      <td>9012</td>\n",
       "      <td>9012/2022</td>\n",
       "      <td>2022-11-01 00:09:19</td>\n",
       "      <td>2022-11-01 00:09:19</td>\n",
       "      <td>2022-10-31</td>\n",
       "      <td>22:32:00</td>\n",
       "      <td>A NOITE</td>\n",
       "      <td>2022-10-31</td>\n",
       "      <td>2022-11-01 00:09:19</td>\n",
       "      <td>...</td>\n",
       "      <td>NaN</td>\n",
       "      <td>NaN</td>\n",
       "      <td>NaN</td>\n",
       "      <td>NaN</td>\n",
       "      <td>NaN</td>\n",
       "      <td>0.0</td>\n",
       "      <td>0.0</td>\n",
       "      <td>NaN</td>\n",
       "      <td>1.0</td>\n",
       "      <td>Samsung</td>\n",
       "    </tr>\n",
       "  </tbody>\n",
       "</table>\n",
       "<p>5 rows × 54 columns</p>\n",
       "</div>"
      ],
      "text/plain": [
       "   ANO_BO  NUM_BO NUMERO_BOLETIM         BO_INICIADO          BO_EMITIDO  \\\n",
       "0    2022    6873      6873/2022 2022-11-01 00:04:36 2022-11-01 00:04:36   \n",
       "1    2022    5203      5203/2022 2022-11-01 00:08:16 2022-11-01 00:08:16   \n",
       "2    2022    5203      5203/2022 2022-11-01 00:08:16 2022-11-01 00:08:16   \n",
       "3    2022    9012      9012/2022 2022-11-01 00:09:19 2022-11-01 00:09:19   \n",
       "4    2022    9012      9012/2022 2022-11-01 00:09:19 2022-11-01 00:09:19   \n",
       "\n",
       "  DATAOCORRENCIA HORAOCORRENCIA PERIDOOCORRENCIA DATACOMUNICACAO  \\\n",
       "0     2022-10-31       20:40:00          A NOITE      2022-10-31   \n",
       "1     2022-10-31       20:40:00          A NOITE      2022-10-31   \n",
       "2     2022-10-31       20:40:00          A NOITE      2022-10-31   \n",
       "3     2022-10-31       22:32:00          A NOITE      2022-10-31   \n",
       "4     2022-10-31       22:32:00          A NOITE      2022-10-31   \n",
       "\n",
       "       DATAELABORACAO  ... PLACA_VEICULO UF_VEICULO CIDADE_VEICULO  \\\n",
       "0 2022-11-01 00:04:36  ...       EFS8G51         SP     ARARAQUARA   \n",
       "1 2022-11-01 00:08:16  ...           NaN        NaN            NaN   \n",
       "2 2022-11-01 00:08:16  ...           NaN        NaN            NaN   \n",
       "3 2022-11-01 00:09:19  ...           NaN        NaN            NaN   \n",
       "4 2022-11-01 00:09:19  ...           NaN        NaN            NaN   \n",
       "\n",
       "  DESCR_COR_VEICULO  DESCR_MARCA_VEICULO ANO_FABRICACAO ANO_MODELO  \\\n",
       "0             Preta       VW/GOL 1.0 GIV         2009.0     2009.0   \n",
       "1               NaN                  NaN            0.0        0.0   \n",
       "2               NaN                  NaN            0.0        0.0   \n",
       "3               NaN                  NaN            0.0        0.0   \n",
       "4               NaN                  NaN            0.0        0.0   \n",
       "\n",
       "  DESCR_TIPO_VEICULO  QUANT_CELULAR  MARCA_CELULAR  \n",
       "0          AUTOMOVEL            1.0       Motorola  \n",
       "1                NaN            1.0       Motorola  \n",
       "2                NaN            1.0        Samsung  \n",
       "3                NaN            1.0        Samsung  \n",
       "4                NaN            1.0        Samsung  \n",
       "\n",
       "[5 rows x 54 columns]"
      ]
     },
     "execution_count": 3,
     "metadata": {},
     "output_type": "execute_result"
    }
   ],
   "source": [
    "dados_expl_r_celulares.head()"
   ]
  },
  {
   "cell_type": "code",
   "execution_count": 4,
   "id": "80132f4d",
   "metadata": {},
   "outputs": [
    {
     "data": {
      "text/plain": [
       "S.PAULO                13319\n",
       "S.ANDRE                  757\n",
       "S.BERNARDO DO CAMPO      718\n",
       "GUARULHOS                682\n",
       "OSASCO                   527\n",
       "CAMPINAS                 522\n",
       "DIADEMA                  505\n",
       "ITAQUAQUECETUBA          383\n",
       "MAUA                     363\n",
       "SUZANO                   264\n",
       "Name: CIDADE, dtype: int64"
      ]
     },
     "execution_count": 4,
     "metadata": {},
     "output_type": "execute_result"
    }
   ],
   "source": [
    "#aqui estamos vendo as 10 cidades onde mais ocorreram eventos \n",
    "cidades=dados_expl_r_celulares['CIDADE'].value_counts()\n",
    "cidades.sort_values(ascending=False).head(10)"
   ]
  },
  {
   "cell_type": "code",
   "execution_count": 5,
   "id": "4acc068e",
   "metadata": {},
   "outputs": [
    {
     "data": {
      "text/plain": [
       "CENTRO            503\n",
       "Centro            420\n",
       "RAPOSO TAVARES    419\n",
       "REPUBLICA         354\n",
       "CAPAO REDONDO     258\n",
       "BUTANTA           256\n",
       "JARDIM ANGELA     218\n",
       "JD SÃO LUIS       178\n",
       "JARAGUA           178\n",
       "JABAQUARA         176\n",
       "Name: BAIRRO, dtype: int64"
      ]
     },
     "execution_count": 5,
     "metadata": {},
     "output_type": "execute_result"
    }
   ],
   "source": [
    "#Aqui estamos apresentando os dados dos dez bairros mais violentos \n",
    "bairros= dados_expl_r_celulares['BAIRRO'].value_counts()\n",
    "bairros.sort_values(ascending=False).head(10)"
   ]
  },
  {
   "cell_type": "code",
   "execution_count": 6,
   "id": "cf57e24c",
   "metadata": {},
   "outputs": [
    {
     "data": {
      "text/plain": [
       "RUA DEOLICIO ALVES DE SOUZA                 333\n",
       "Avenida Engenheiro Plínio de Queiróz        144\n",
       "RUA DOUTOR MOACIR TAVOLARO                   84\n",
       "RUA JOSÉFINA CUNHA COSTA                     80\n",
       "RUA GONCALVES DIAS                           72\n",
       "RODOVIA PRESIDENTE DUTRA (BR 116)            72\n",
       "Rodovia Anhanguera                           56\n",
       "Rua Três Arapongas                           52\n",
       "AVENIDA DO ESTADO                            50\n",
       "RODOVIA SP 352                               49\n",
       "RUA PASTORIL DE ALMENARA                     49\n",
       "AVENIDA PAULISTA                             49\n",
       "Avenida do Estado                            48\n",
       "RUA NUN ALVARES                              44\n",
       "AVENIDA ENGENHEIRO HEITOR ANTONIO EIRAS      43\n",
       "Estrada do M'Boi Mirim                       42\n",
       "AVENIDA PROFESSOR ERNESTO DE MORAES LEME     42\n",
       "PRAÇA DA REPUBLICA                           41\n",
       "Avenida Jacu-Pêssego                         39\n",
       "AVENIDA CRUZEIRO DO SUL                      39\n",
       "Name: LOGRADOURO, dtype: int64"
      ]
     },
     "execution_count": 6,
     "metadata": {},
     "output_type": "execute_result"
    }
   ],
   "source": [
    "# Apresentadno os dados das ruas onde ocorreram maiores  furtos\n",
    "ruas=dados_expl_r_celulares['LOGRADOURO'].value_counts()\n",
    "ruas.sort_values(ascending=False).head(20)"
   ]
  },
  {
   "cell_type": "code",
   "execution_count": 7,
   "id": "8631a8ba",
   "metadata": {},
   "outputs": [
    {
     "data": {
      "text/plain": [
       "PERIDOOCORRENCIA\n",
       "A NOITE            10518\n",
       "A TARDE             5173\n",
       "PELA MANHÃ          4405\n",
       "DE MADRUGADA        4273\n",
       "EM HORA INCERTA       43\n",
       "dtype: int64"
      ]
     },
     "execution_count": 7,
     "metadata": {},
     "output_type": "execute_result"
    }
   ],
   "source": [
    "# Aqui estamos filtrando por período de  ocorrência \n",
    "periodo_oc=dados_expl_r_celulares.groupby(['PERIDOOCORRENCIA']).size()\n",
    "periodo_oc.sort_values(ascending=False)"
   ]
  },
  {
   "cell_type": "code",
   "execution_count": 8,
   "id": "4b92854f",
   "metadata": {},
   "outputs": [
    {
     "data": {
      "text/plain": [
       "MARCA_CELULAR\n",
       "Samsung       8952\n",
       "Motorola      5736\n",
       "Apple         5644\n",
       "Xiaomi        1934\n",
       "Outros         882\n",
       "LG             684\n",
       "Asus           241\n",
       "Positivo       119\n",
       "Nokia           66\n",
       "Multilaser      42\n",
       "Alcatel         30\n",
       "Lenovo          23\n",
       "Microsoft        8\n",
       "Siemens          8\n",
       "Huawei           6\n",
       "BLU              6\n",
       "Sony             5\n",
       "Motorola|        1\n",
       "HPE              1\n",
       "ZTE              1\n",
       "dtype: int64"
      ]
     },
     "execution_count": 8,
     "metadata": {},
     "output_type": "execute_result"
    }
   ],
   "source": [
    "# Aqui estamos descrevendo quais modelos de celulares foram os mais furtados por marca ordenando do maior para o menor\n",
    "celulares_por_marca=dados_expl_r_celulares.groupby(['MARCA_CELULAR']).size()\n",
    "celulares_por_marca.sort_values(ascending=False)"
   ]
  },
  {
   "cell_type": "code",
   "execution_count": 9,
   "id": "67d00ec0",
   "metadata": {},
   "outputs": [
    {
     "data": {
      "text/plain": [
       "QUANT_CELULAR\n",
       "1.0       23883\n",
       "2.0         298\n",
       "3.0         102\n",
       "4.0          33\n",
       "6.0          16\n",
       "8.0          15\n",
       "5.0           6\n",
       "13.0          4\n",
       "15.0          4\n",
       "9.0           4\n",
       "300.0         3\n",
       "10.0          2\n",
       "7.0           2\n",
       "17.0          2\n",
       "176.0         2\n",
       "69.0          2\n",
       "80.0          2\n",
       "82.0          1\n",
       "110.0         1\n",
       "101.0         1\n",
       "58.0          1\n",
       "11.0          1\n",
       "26.0          1\n",
       "20.0          1\n",
       "14.0          1\n",
       "1111.0        1\n",
       "dtype: int64"
      ]
     },
     "execution_count": 9,
     "metadata": {},
     "output_type": "execute_result"
    }
   ],
   "source": [
    "celulares=dados_expl_r_celulares.groupby(['QUANT_CELULAR']).size()\n",
    "celulares.sort_values(ascending=False)"
   ]
  },
  {
   "cell_type": "markdown",
   "id": "519a5ea7",
   "metadata": {},
   "source": [
    "## Agora vamos carregar e analisar os dados de roubo de veículos "
   ]
  },
  {
   "cell_type": "code",
   "execution_count": 10,
   "id": "8a6e59f3",
   "metadata": {},
   "outputs": [],
   "source": [
    "dados_exp_roubo_veiculos_nov_2022=pd.read_excel('dados_roubo_veiculos_novembro_2022_completo.xlsx')"
   ]
  },
  {
   "cell_type": "code",
   "execution_count": 11,
   "id": "0da1d2f1",
   "metadata": {},
   "outputs": [
    {
     "data": {
      "text/html": [
       "<div>\n",
       "<style scoped>\n",
       "    .dataframe tbody tr th:only-of-type {\n",
       "        vertical-align: middle;\n",
       "    }\n",
       "\n",
       "    .dataframe tbody tr th {\n",
       "        vertical-align: top;\n",
       "    }\n",
       "\n",
       "    .dataframe thead th {\n",
       "        text-align: right;\n",
       "    }\n",
       "</style>\n",
       "<table border=\"1\" class=\"dataframe\">\n",
       "  <thead>\n",
       "    <tr style=\"text-align: right;\">\n",
       "      <th></th>\n",
       "      <th>ANO_BO</th>\n",
       "      <th>NUM_BO</th>\n",
       "      <th>NUMERO_BOLETIM</th>\n",
       "      <th>BO_INICIADO</th>\n",
       "      <th>BO_EMITIDO</th>\n",
       "      <th>DATAOCORRENCIA</th>\n",
       "      <th>HORAOCORRENCIA</th>\n",
       "      <th>PERIDOOCORRENCIA</th>\n",
       "      <th>DATACOMUNICACAO</th>\n",
       "      <th>DATAELABORACAO</th>\n",
       "      <th>...</th>\n",
       "      <th>PLACA_VEICULO</th>\n",
       "      <th>UF_VEICULO</th>\n",
       "      <th>CIDADE_VEICULO</th>\n",
       "      <th>DESCR_COR_VEICULO</th>\n",
       "      <th>DESCR_MARCA_VEICULO</th>\n",
       "      <th>ANO_FABRICACAO</th>\n",
       "      <th>ANO_MODELO</th>\n",
       "      <th>DESCR_TIPO_VEICULO</th>\n",
       "      <th>QUANT_CELULAR</th>\n",
       "      <th>MARCA_CELULAR</th>\n",
       "    </tr>\n",
       "  </thead>\n",
       "  <tbody>\n",
       "    <tr>\n",
       "      <th>0</th>\n",
       "      <td>2022</td>\n",
       "      <td>6873</td>\n",
       "      <td>6873/2022</td>\n",
       "      <td>2022-11-01 00:04:00</td>\n",
       "      <td>2022-11-01 00:04:00</td>\n",
       "      <td>2022-10-31</td>\n",
       "      <td>20:40:00</td>\n",
       "      <td>A NOITE</td>\n",
       "      <td>2022-10-31</td>\n",
       "      <td>2022-11-01 00:04:00</td>\n",
       "      <td>...</td>\n",
       "      <td>EFS8G51</td>\n",
       "      <td>SP</td>\n",
       "      <td>ARARAQUARA</td>\n",
       "      <td>Preta</td>\n",
       "      <td>VW/GOL 1.0 GIV</td>\n",
       "      <td>2009.0</td>\n",
       "      <td>2009.0</td>\n",
       "      <td>AUTOMOVEL</td>\n",
       "      <td>NaN</td>\n",
       "      <td>NaN</td>\n",
       "    </tr>\n",
       "    <tr>\n",
       "      <th>1</th>\n",
       "      <td>2022</td>\n",
       "      <td>6525</td>\n",
       "      <td>6525/2022</td>\n",
       "      <td>2022-11-01 00:07:00</td>\n",
       "      <td>2022-11-01 00:07:00</td>\n",
       "      <td>2022-10-31</td>\n",
       "      <td>18:57:00</td>\n",
       "      <td>A NOITE</td>\n",
       "      <td>2022-10-31</td>\n",
       "      <td>2022-11-01 00:07:00</td>\n",
       "      <td>...</td>\n",
       "      <td>NaN</td>\n",
       "      <td>NaN</td>\n",
       "      <td>NaN</td>\n",
       "      <td>NaN</td>\n",
       "      <td>NaN</td>\n",
       "      <td>0.0</td>\n",
       "      <td>0.0</td>\n",
       "      <td>NaN</td>\n",
       "      <td>NaN</td>\n",
       "      <td>NaN</td>\n",
       "    </tr>\n",
       "    <tr>\n",
       "      <th>2</th>\n",
       "      <td>2022</td>\n",
       "      <td>6525</td>\n",
       "      <td>6525/2022</td>\n",
       "      <td>2022-11-01 00:07:00</td>\n",
       "      <td>2022-11-01 00:07:00</td>\n",
       "      <td>2022-10-31</td>\n",
       "      <td>18:57:00</td>\n",
       "      <td>A NOITE</td>\n",
       "      <td>2022-10-31</td>\n",
       "      <td>2022-11-01 00:07:00</td>\n",
       "      <td>...</td>\n",
       "      <td>EAE4702</td>\n",
       "      <td>SP</td>\n",
       "      <td>S.PAULO</td>\n",
       "      <td>Branco</td>\n",
       "      <td>NISSAN/KICKS S DRCT CVT</td>\n",
       "      <td>2019.0</td>\n",
       "      <td>2019.0</td>\n",
       "      <td>AUTOMOVEL</td>\n",
       "      <td>NaN</td>\n",
       "      <td>NaN</td>\n",
       "    </tr>\n",
       "  </tbody>\n",
       "</table>\n",
       "<p>3 rows × 54 columns</p>\n",
       "</div>"
      ],
      "text/plain": [
       "   ANO_BO  NUM_BO NUMERO_BOLETIM         BO_INICIADO          BO_EMITIDO  \\\n",
       "0    2022    6873      6873/2022 2022-11-01 00:04:00 2022-11-01 00:04:00   \n",
       "1    2022    6525      6525/2022 2022-11-01 00:07:00 2022-11-01 00:07:00   \n",
       "2    2022    6525      6525/2022 2022-11-01 00:07:00 2022-11-01 00:07:00   \n",
       "\n",
       "  DATAOCORRENCIA HORAOCORRENCIA PERIDOOCORRENCIA DATACOMUNICACAO  \\\n",
       "0     2022-10-31       20:40:00          A NOITE      2022-10-31   \n",
       "1     2022-10-31       18:57:00          A NOITE      2022-10-31   \n",
       "2     2022-10-31       18:57:00          A NOITE      2022-10-31   \n",
       "\n",
       "       DATAELABORACAO  ... PLACA_VEICULO UF_VEICULO CIDADE_VEICULO  \\\n",
       "0 2022-11-01 00:04:00  ...       EFS8G51         SP     ARARAQUARA   \n",
       "1 2022-11-01 00:07:00  ...           NaN        NaN            NaN   \n",
       "2 2022-11-01 00:07:00  ...       EAE4702         SP        S.PAULO   \n",
       "\n",
       "  DESCR_COR_VEICULO      DESCR_MARCA_VEICULO ANO_FABRICACAO ANO_MODELO  \\\n",
       "0             Preta           VW/GOL 1.0 GIV         2009.0     2009.0   \n",
       "1               NaN                      NaN            0.0        0.0   \n",
       "2            Branco  NISSAN/KICKS S DRCT CVT         2019.0     2019.0   \n",
       "\n",
       "  DESCR_TIPO_VEICULO  QUANT_CELULAR  MARCA_CELULAR  \n",
       "0          AUTOMOVEL            NaN            NaN  \n",
       "1                NaN            NaN            NaN  \n",
       "2          AUTOMOVEL            NaN            NaN  \n",
       "\n",
       "[3 rows x 54 columns]"
      ]
     },
     "execution_count": 11,
     "metadata": {},
     "output_type": "execute_result"
    }
   ],
   "source": [
    "dados_exp_roubo_veiculos_nov_2022.head(3)"
   ]
  },
  {
   "cell_type": "code",
   "execution_count": 12,
   "id": "a7615597",
   "metadata": {},
   "outputs": [
    {
     "data": {
      "text/plain": [
       "S.PAULO                5837\n",
       "S.BERNARDO DO CAMPO     671\n",
       "S.ANDRE                 570\n",
       "GUARULHOS               521\n",
       "OSASCO                  504\n",
       "CAMPINAS                447\n",
       "ITAQUAQUECETUBA         316\n",
       "DIADEMA                 298\n",
       "MAUA                    250\n",
       "SUZANO                  232\n",
       "Name: CIDADE, dtype: int64"
      ]
     },
     "execution_count": 12,
     "metadata": {},
     "output_type": "execute_result"
    }
   ],
   "source": [
    "#aqui estamos vendo as 10 cidades onde mais ocorreram eventos \n",
    "cidades=dados_exp_roubo_veiculos_nov_2022['CIDADE'].value_counts()\n",
    "cidades.sort_values(ascending=False).head(10)"
   ]
  },
  {
   "cell_type": "code",
   "execution_count": 13,
   "id": "8d94c17e",
   "metadata": {},
   "outputs": [
    {
     "data": {
      "text/plain": [
       "CENTRO            242\n",
       "RAPOSO TAVARES    180\n",
       "JABAQUARA         136\n",
       "Centro            134\n",
       "JARDIM ANGELA     133\n",
       "SAPOPEMBA         131\n",
       "SAO MATEUS        131\n",
       "JARDIM COLINA     111\n",
       "BUTANTA           109\n",
       "CAPAO REDONDO     109\n",
       "Name: BAIRRO, dtype: int64"
      ]
     },
     "execution_count": 13,
     "metadata": {},
     "output_type": "execute_result"
    }
   ],
   "source": [
    "bairros= dados_exp_roubo_veiculos_nov_2022['BAIRRO'].value_counts()\n",
    "bairros.sort_values(ascending=False).head(10)"
   ]
  },
  {
   "cell_type": "code",
   "execution_count": 14,
   "id": "c4e1576f",
   "metadata": {},
   "outputs": [
    {
     "data": {
      "text/plain": [
       "RUA DEOLICIO ALVES DE SOUZA                 111\n",
       "Rodovia Anhanguera                           79\n",
       "RUA PIABA                                    75\n",
       "RODOVIA PRESIDENTE DUTRA (BR 116)            74\n",
       "Avenida Engenheiro Plínio de Queiróz         72\n",
       "Rodovia dos Bandeirantes                     54\n",
       "Rodovia Régis Bittencourt                    52\n",
       "rua quatro                                   51\n",
       "Rodovia Dom Pedro I                          50\n",
       "Estrada Galvão Bueno                         48\n",
       "Rodovia Anchieta                             43\n",
       "Avenida das Nações Unidas                    42\n",
       "RUA JOSÉFINA CUNHA COSTA                     40\n",
       "Estrada do M'Boi Mirim                       36\n",
       "RUA SARGENTO RODOVAL CABRAL TRINDADE         35\n",
       "Estrada Municipal Vereador Luis Carlos A     34\n",
       "PRAÇA PINHEIRO DA CUNHA                      34\n",
       "ESTRADA KAZUMI TAKEUCHI                      34\n",
       "Rodoanel Mário Covas                         34\n",
       "AVENIDA AGUIA DE HAIA                        32\n",
       "Name: LOGRADOURO, dtype: int64"
      ]
     },
     "execution_count": 14,
     "metadata": {},
     "output_type": "execute_result"
    }
   ],
   "source": [
    "# Apresentadno os dados das ruas onde ocorreram maiores  furtos\n",
    "ruas=dados_exp_roubo_veiculos_nov_2022['LOGRADOURO'].value_counts()\n",
    "ruas.sort_values(ascending=False).head(20)   "
   ]
  },
  {
   "cell_type": "code",
   "execution_count": 15,
   "id": "be6ecb7b",
   "metadata": {},
   "outputs": [
    {
     "data": {
      "text/plain": [
       "PERIDOOCORRENCIA\n",
       "A NOITE            6029\n",
       "A TARDE            3051\n",
       "PELA MANHÃ         2544\n",
       "DE MADRUGADA       2386\n",
       "EM HORA INCERTA      41\n",
       "dtype: int64"
      ]
     },
     "execution_count": 15,
     "metadata": {},
     "output_type": "execute_result"
    }
   ],
   "source": [
    "# Aqui estamos filtrando por período de  ocorrência \n",
    "periodo_oc=dados_exp_roubo_veiculos_nov_2022.groupby(['PERIDOOCORRENCIA']).size()\n",
    "periodo_oc.sort_values(ascending=False)"
   ]
  },
  {
   "cell_type": "code",
   "execution_count": 16,
   "id": "b5ca1e8c",
   "metadata": {},
   "outputs": [
    {
     "data": {
      "text/plain": [
       "DESCR_TIPO_VEICULO\n",
       "AUTOMOVEL          3844\n",
       "MOTOCICLO          3303\n",
       "CAMINHONETE         753\n",
       "SEMI-REBOQUE        394\n",
       "CAMIONETA           344\n",
       "CAMINHÃO            335\n",
       "CAMINHÃO TRATOR     334\n",
       "UTILITÁRIO          170\n",
       "MOTONETA            116\n",
       "REBOQUE              63\n",
       "Não Informado        23\n",
       "MICRO-ONIBUS         15\n",
       "TRATOR RODAS          6\n",
       "ONIBUS                4\n",
       "INEXIST.              3\n",
       "TRATOR MISTO          2\n",
       "CICLOMOTO             1\n",
       "dtype: int64"
      ]
     },
     "execution_count": 16,
     "metadata": {},
     "output_type": "execute_result"
    }
   ],
   "source": [
    "# Roubo de veículos por categoria(moto/carro)\n",
    "categoria=dados_exp_roubo_veiculos_nov_2022.groupby(['DESCR_TIPO_VEICULO']).size()\n",
    "categoria.sort_values(ascending=False)"
   ]
  },
  {
   "cell_type": "code",
   "execution_count": 17,
   "id": "553f3f5e",
   "metadata": {},
   "outputs": [
    {
     "data": {
      "text/plain": [
       "DESCR_MARCA_VEICULO\n",
       "HONDA/CG 160 FAN            236\n",
       "HONDA/CG 160 TITAN          139\n",
       "YAMAHA/FZ25 FAZER           118\n",
       "YAMAHA/XTZ250 LANDER        104\n",
       "YAMAHA/MT03 ABS             102\n",
       "HONDA/CG 160 START           91\n",
       "HONDA/XRE 300                89\n",
       "HONDA/CB 300R                88\n",
       "HONDA/CB250F TWISTER CBS     85\n",
       "FIAT/ARGO DRIVE 1.0          72\n",
       "HONDA/CB 250F TWISTER        67\n",
       "HONDA/XRE 300 ABS            62\n",
       "YAMAHA/FAZER YS250           61\n",
       "CHEVROLET/ONIX 1.0MT LT      60\n",
       "HONDA/CB600F HORNET          57\n",
       "HYUNDAI/HB20 1.0M COMFOR     54\n",
       "CHEVROLET/ONIX 10MT JOYE     54\n",
       "HONDA/CB250F TWISTER ABS     53\n",
       "HONDA/CB 500F                53\n",
       "HONDA/CB 500X                52\n",
       "dtype: int64"
      ]
     },
     "execution_count": 17,
     "metadata": {},
     "output_type": "execute_result"
    }
   ],
   "source": [
    "# Aqui estamos descrevendo quais modelos de veículos foram os mais furtados por marca ordenando do maior para o menor\n",
    "carros_por_marca=dados_exp_roubo_veiculos_nov_2022.groupby(['DESCR_MARCA_VEICULO']).size()\n",
    "carros_por_marca.sort_values(ascending=False).head(20)"
   ]
  },
  {
   "cell_type": "code",
   "execution_count": 18,
   "id": "05de3268",
   "metadata": {},
   "outputs": [
    {
     "data": {
      "text/plain": [
       "DESCR_COR_VEICULO\n",
       "Branco      2519\n",
       "Preta       2051\n",
       "Prata       1510\n",
       "Vermelho    1307\n",
       "Cinza       1062\n",
       "Azul         702\n",
       "Verde        205\n",
       "Amarelo      143\n",
       "Laranja       92\n",
       "Bege          55\n",
       "Marrom        44\n",
       "Fantasia      14\n",
       "Roxa          10\n",
       "Dourada        7\n",
       "dtype: int64"
      ]
     },
     "execution_count": 18,
     "metadata": {},
     "output_type": "execute_result"
    }
   ],
   "source": [
    "# Aqui estamos vendo quais as cores do veícilos  foram os mais roubados ordenando do maior para o menor\n",
    "carros_por_cor=dados_exp_roubo_veiculos_nov_2022.groupby(['DESCR_COR_VEICULO']).size()\n",
    "carros_por_cor.sort_values(ascending=False).head(20)"
   ]
  },
  {
   "cell_type": "code",
   "execution_count": 19,
   "id": "cb81ebf9",
   "metadata": {},
   "outputs": [
    {
     "data": {
      "text/plain": [
       "ANO_FABRICACAO\n",
       "0.0       4290\n",
       "2021.0     964\n",
       "2022.0     944\n",
       "2019.0     853\n",
       "2020.0     789\n",
       "2018.0     673\n",
       "2013.0     585\n",
       "2017.0     556\n",
       "2014.0     521\n",
       "2012.0     472\n",
       "2015.0     451\n",
       "2011.0     445\n",
       "2010.0     409\n",
       "2016.0     361\n",
       "2008.0     273\n",
       "2009.0     261\n",
       "2007.0     211\n",
       "2006.0     157\n",
       "2004.0      99\n",
       "2005.0      85\n",
       "dtype: int64"
      ]
     },
     "execution_count": 19,
     "metadata": {},
     "output_type": "execute_result"
    }
   ],
   "source": [
    "# Aqui vamos ver o ano de roubo destes veiculos\n",
    "carros_por_ano=dados_exp_roubo_veiculos_nov_2022.groupby(['ANO_FABRICACAO']).size()\n",
    "carros_por_ano.sort_values(ascending=False).head(20)"
   ]
  }
 ],
 "metadata": {
  "kernelspec": {
   "display_name": "Python 3 (ipykernel)",
   "language": "python",
   "name": "python3"
  },
  "language_info": {
   "codemirror_mode": {
    "name": "ipython",
    "version": 3
   },
   "file_extension": ".py",
   "mimetype": "text/x-python",
   "name": "python",
   "nbconvert_exporter": "python",
   "pygments_lexer": "ipython3",
   "version": "3.9.13"
  }
 },
 "nbformat": 4,
 "nbformat_minor": 5
}
